{
 "cells": [
  {
   "cell_type": "code",
   "execution_count": 0,
   "metadata": {
    "application/vnd.databricks.v1+cell": {
     "cellMetadata": {
      "byteLimit": 2048000,
      "rowLimit": 10000
     },
     "inputWidgets": {},
     "nuid": "2c8b7278-6bed-4532-b56b-da08b93e476f",
     "showTitle": false,
     "title": ""
    }
   },
   "outputs": [],
   "source": [
    "\n",
    "dbutils.widgets.text(\"testParameter\", \"test1\")\n",
    "testParameter = dbutils.widgets.get(\"testParameter\")\n"
   ]
  },
  {
   "cell_type": "code",
   "execution_count": 0,
   "metadata": {
    "application/vnd.databricks.v1+cell": {
     "cellMetadata": {
      "byteLimit": 2048000,
      "rowLimit": 10000
     },
     "inputWidgets": {},
     "nuid": "a39da26a-d947-4c3a-944a-ff2a88abac17",
     "showTitle": false,
     "title": ""
    }
   },
   "outputs": [
    {
     "output_type": "stream",
     "name": "stdout",
     "output_type": "stream",
     "text": [
      "testParameter :  test1\n"
     ]
    }
   ],
   "source": [
    "print(\"testParameter : \",testParameter)"
   ]
  }
 ],
 "metadata": {
  "application/vnd.databricks.v1+notebook": {
   "dashboards": [],
   "language": "python",
   "notebookMetadata": {
    "pythonIndentUnit": 4
   },
   "notebookName": "JobBasedNotebook1",
   "widgets": {
    "feed_name": {
     "currentValue": "test",
     "nuid": "a212f068-08e6-44c3-ac33-e5ee6a545e19",
     "widgetInfo": {
      "widgetType": "text",
      "defaultValue": "test",
      "label": null,
      "name": "feed_name",
      "options": {
       "widgetType": "text",
       "autoCreated": null,
       "validationRegex": null
      }
     }
    },
    "testParameter": {
     "currentValue": "test1",
     "nuid": "d7773401-269e-4a64-81b5-0ed99640f2d0",
     "widgetInfo": {
      "widgetType": "text",
      "defaultValue": "test1",
      "label": null,
      "name": "testParameter",
      "options": {
       "widgetType": "text",
       "autoCreated": null,
       "validationRegex": null
      }
     }
    }
   }
  }
 },
 "nbformat": 4,
 "nbformat_minor": 0
}
